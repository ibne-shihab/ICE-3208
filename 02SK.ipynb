{
 "cells": [
  {
   "cell_type": "code",
   "execution_count": null,
   "metadata": {},
   "outputs": [],
   "source": [
    "import cv2\n",
    "import os\n",
    "import numpy as np"
   ]
  },
  {
   "cell_type": "code",
   "execution_count": null,
   "metadata": {},
   "outputs": [],
   "source": [
    "# Usage example\n",
    "input_folder = r'C:\\Users\\ibnes\\OneDrive\\Desktop\\Image Exam\\Image  and Speech Processing Dataset\\Image  and Speech Processing Dataset\\01 Image Dataset\\05 Edge Detection Dataset\\Input Folder'\n",
    "output_folder = r'C:\\Users\\ibnes\\OneDrive\\Desktop\\Image Exam\\OutputSK'"
   ]
  },
  {
   "cell_type": "code",
   "execution_count": null,
   "metadata": {},
   "outputs": [],
   "source": [
    "def apply_convolution(image_path, output_folder):\n",
    "    # Define a 3x3 convolution mask\n",
    "    kernel = np.array([[-1, -1, -1],\n",
    "                       [-1,  9, -1],\n",
    "                       [-1, -1, -1]], dtype=np.float32)\n",
    "\n",
    "    # Read the image\n",
    "    image = cv2.imread(image_path)\n",
    "\n",
    "    # Apply convolution\n",
    "    processed_image = cv2.filter2D(image, -1, kernel)\n",
    "\n",
    "    # Extract the filename and extension\n",
    "    filename, extension = os.path.splitext(os.path.basename(image_path))\n",
    "\n",
    "    # Save the processed image\n",
    "    output_path = os.path.join(output_folder, filename + '_processed' + extension)\n",
    "    cv2.imwrite(output_path, processed_image)\n",
    "    print(f\"Processed image saved at: {output_path}\")\n"
   ]
  },
  {
   "cell_type": "code",
   "execution_count": null,
   "metadata": {},
   "outputs": [],
   "source": [
    "def preprocess_images(input_folder, output_folder):\n",
    "    # Ensure the output folder exists, if not create it\n",
    "    if not os.path.exists(output_folder):\n",
    "        os.makedirs(output_folder)\n",
    "\n",
    "    # Process each image in the input folder\n",
    "    for filename in os.listdir(input_folder):\n",
    "        if filename.endswith(('.jpg', '.jpeg', '.png', '.bmp')):\n",
    "            image_path = os.path.join(input_folder, filename)\n",
    "            apply_convolution(image_path, output_folder)"
   ]
  },
  {
   "cell_type": "code",
   "execution_count": 2,
   "metadata": {},
   "outputs": [
    {
     "name": "stdout",
     "output_type": "stream",
     "text": [
      "Processed image saved at: C:\\Users\\ibnes\\OneDrive\\Desktop\\Image Exam\\OutputSK\\1_processed.png\n",
      "Processed image saved at: C:\\Users\\ibnes\\OneDrive\\Desktop\\Image Exam\\OutputSK\\2_processed.png\n",
      "Processed image saved at: C:\\Users\\ibnes\\OneDrive\\Desktop\\Image Exam\\OutputSK\\3_processed.png\n",
      "Processed image saved at: C:\\Users\\ibnes\\OneDrive\\Desktop\\Image Exam\\OutputSK\\4_processed.png\n",
      "Processed image saved at: C:\\Users\\ibnes\\OneDrive\\Desktop\\Image Exam\\OutputSK\\5_processed.png\n"
     ]
    }
   ],
   "source": [
    "\n",
    "\n",
    "\n",
    "\n",
    "\n",
    "\n",
    "preprocess_images(input_folder, output_folder)\n"
   ]
  }
 ],
 "metadata": {
  "kernelspec": {
   "display_name": "tf",
   "language": "python",
   "name": "tf"
  },
  "language_info": {
   "codemirror_mode": {
    "name": "ipython",
    "version": 3
   },
   "file_extension": ".py",
   "mimetype": "text/x-python",
   "name": "python",
   "nbconvert_exporter": "python",
   "pygments_lexer": "ipython3",
   "version": "3.9.18"
  }
 },
 "nbformat": 4,
 "nbformat_minor": 2
}
