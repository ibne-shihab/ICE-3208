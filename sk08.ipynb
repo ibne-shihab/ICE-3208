{
 "cells": [
  {
   "cell_type": "code",
   "execution_count": 6,
   "metadata": {},
   "outputs": [],
   "source": [
    "import os\n",
    "import cv2\n",
    "import numpy as np\n",
    "\n",
    "input_folder = r'C:\\Users\\ibnes\\OneDrive\\Desktop\\Image Exam\\Image  and Speech Processing Dataset\\Image  and Speech Processing Dataset\\01 Image Dataset\\05 Edge Detection Dataset\\Input Folder'\n",
    "output_folder_enhanced = r'C:\\Users\\ibnes\\OneDrive\\Desktop\\Image Exam\\OutputSK\\enhanced_images'\n",
    "output_folder_smoothed = r'C:\\Users\\ibnes\\OneDrive\\Desktop\\Image Exam\\OutputSK\\smoothed_images'\n",
    "output_folder_sharpened = r'C:\\Users\\ibnes\\OneDrive\\Desktop\\Image Exam\\OutputSK\\sharpened_images'\n",
    "\n",
    "# Create output folders if they don't exist\n",
    "for folder in [output_folder_enhanced, output_folder_smoothed, output_folder_sharpened]:\n",
    "    if not os.path.exists(folder):\n",
    "        os.makedirs(folder)\n",
    "\n",
    "# Function to perform image enhancement\n",
    "def enhance_image(image):\n",
    "    enhanced_image = cv2.equalizeHist(image)\n",
    "    return enhanced_image\n",
    "\n",
    "# Function to perform image smoothing\n",
    "def smooth_image(image):\n",
    "    smoothed_image = cv2.GaussianBlur(image, (5, 5), 0)\n",
    "    return smoothed_image\n",
    "\n",
    "# Function to perform image sharpening\n",
    "def sharpen_image(image):\n",
    "    kernel = np.array([[-1,-1,-1], [-1,9,-1], [-1,-1,-1]])\n",
    "    sharpened_image = cv2.filter2D(image, -1, kernel)\n",
    "    return sharpened_image\n",
    "\n",
    "# Read images from input folder\n",
    "image_files = [f for f in os.listdir(input_folder) if f.endswith('.png')]\n",
    "\n",
    "# Process each image and save to respective output folders\n",
    "for image_file in image_files:\n",
    "    input_image = cv2.imread(os.path.join(input_folder, image_file), cv2.IMREAD_GRAYSCALE)\n",
    "\n",
    "    # Image enhancement\n",
    "    enhanced_image = enhance_image(input_image)\n",
    "    cv2.imwrite(os.path.join(output_folder_enhanced, image_file), enhanced_image)\n",
    "\n",
    "    # Image smoothing\n",
    "    smoothed_image = smooth_image(input_image)\n",
    "    cv2.imwrite(os.path.join(output_folder_smoothed, image_file), smoothed_image)\n",
    "\n",
    "    # Image sharpening\n",
    "    sharpened_image = sharpen_image(input_image)\n",
    "    cv2.imwrite(os.path.join(output_folder_sharpened, image_file), sharpened_image)\n"
   ]
  }
 ],
 "metadata": {
  "kernelspec": {
   "display_name": "tf",
   "language": "python",
   "name": "tf"
  },
  "language_info": {
   "codemirror_mode": {
    "name": "ipython",
    "version": 3
   },
   "file_extension": ".py",
   "mimetype": "text/x-python",
   "name": "python",
   "nbconvert_exporter": "python",
   "pygments_lexer": "ipython3",
   "version": "3.9.18"
  }
 },
 "nbformat": 4,
 "nbformat_minor": 2
}
