{
 "cells": [
  {
   "cell_type": "code",
   "execution_count": null,
   "metadata": {},
   "outputs": [],
   "source": [
    "import numpy as np\n",
    "import matplotlib.pyplot as plt\n",
    "import soundfile as sf  # For loading audio files"
   ]
  },
  {
   "cell_type": "markdown",
   "metadata": {},
   "source": [
    "# Function to compute autocorrelation"
   ]
  },
  {
   "cell_type": "code",
   "execution_count": null,
   "metadata": {},
   "outputs": [],
   "source": [
    "def autocorrelation(signal):\n",
    "    corr = np.correlate(signal, signal, mode='full')\n",
    "    return corr[len(corr)//2:]"
   ]
  },
  {
   "cell_type": "markdown",
   "metadata": {},
   "source": [
    "# Function to estimate pitch using autocorrelation"
   ]
  },
  {
   "cell_type": "code",
   "execution_count": null,
   "metadata": {},
   "outputs": [],
   "source": [
    "def estimate_pitch(signal, sampling_rate):\n",
    "    autocorr = autocorrelation(signal)\n",
    "    # We're only interested in the positive part of the autocorrelation function\n",
    "    autocorr = autocorr[len(autocorr) // 2:]\n",
    "    # Find the index of the maximum peak (excluding the first peak which corresponds to zero lag)\n",
    "    peak_index = np.argmax(autocorr[1:]) + 1\n",
    "    # Convert index to pitch frequency (in Hz)\n",
    "    pitch_freq = sampling_rate / peak_index\n",
    "    return pitch_freq"
   ]
  },
  {
   "cell_type": "markdown",
   "metadata": {},
   "source": [
    "# Load speech signal"
   ]
  },
  {
   "cell_type": "code",
   "execution_count": null,
   "metadata": {},
   "outputs": [],
   "source": [
    "file_path = r'C:\\Users\\ibnes\\OneDrive\\Documents\\Sound Recordings\\Voice.wav' # Change this to your audio file path"
   ]
  },
  {
   "cell_type": "code",
   "execution_count": null,
   "metadata": {},
   "outputs": [],
   "source": [
    "signal, sampling_rate = sf.read(file_path)\n",
    "# Convert to mono if stereo\n",
    "if len(signal.shape) > 1:\n",
    "    signal = signal.mean(axis=1)\n",
    "# Normalize the signal\n",
    "signal = signal / np.max(np.abs(signal))\n",
    "# Estimate pitch\n",
    "pitch_freq = estimate_pitch(signal, sampling_rate)\n",
    "\n",
    "print(\"Estimated Pitch Frequency:\", pitch_freq, \"Hz\")"
   ]
  }
 ],
 "metadata": {
  "language_info": {
   "name": "python"
  }
 },
 "nbformat": 4,
 "nbformat_minor": 2
}
